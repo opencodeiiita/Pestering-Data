{
  "nbformat": 4,
  "nbformat_minor": 0,
  "metadata": {
    "colab": {
      "provenance": [],
      "toc_visible": true
    },
    "kernelspec": {
      "name": "python3",
      "display_name": "Python 3"
    },
    "language_info": {
      "name": "python"
    }
  },
  "cells": [
    {
      "cell_type": "markdown",
      "source": [
        "Jupyter Notebook"
      ],
      "metadata": {
        "id": "BQQZStrNQuyG"
      }
    },
    {
      "cell_type": "code",
      "source": [
        "print(\"Kanav Agrawal\")"
      ],
      "metadata": {
        "colab": {
          "base_uri": "https://localhost:8080/"
        },
        "id": "PIj0K3KZQ1sh",
        "outputId": "9f2eae0c-0412-4245-a077-f3d4d8324d93"
      },
      "execution_count": 1,
      "outputs": [
        {
          "output_type": "stream",
          "name": "stdout",
          "text": [
            "Kanav Agrawal\n"
          ]
        }
      ]
    },
    {
      "cell_type": "code",
      "source": [
        "print(\"IEC2024081\")"
      ],
      "metadata": {
        "colab": {
          "base_uri": "https://localhost:8080/"
        },
        "id": "potz55KKRIO8",
        "outputId": "4738e16f-5f7f-4f49-a3f0-a4f5861f83db"
      },
      "execution_count": 2,
      "outputs": [
        {
          "output_type": "stream",
          "name": "stdout",
          "text": [
            "IEC2024081\n"
          ]
        }
      ]
    }
  ]
}