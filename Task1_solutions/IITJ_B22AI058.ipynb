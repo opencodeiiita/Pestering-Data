{
  "nbformat": 4,
  "nbformat_minor": 0,
  "metadata": {
    "colab": {
      "provenance": []
    },
    "kernelspec": {
      "name": "python3",
      "display_name": "Python 3"
    },
    "language_info": {
      "name": "python"
    }
  },
  "cells": [
    {
      "cell_type": "markdown",
      "source": [
        "#Jupyter Notebook"
      ],
      "metadata": {
        "id": "u9c-7NKevetW"
      }
    },
    {
      "cell_type": "code",
      "execution_count": 1,
      "metadata": {
        "colab": {
          "base_uri": "https://localhost:8080/"
        },
        "id": "VBjjUqE1D35X",
        "outputId": "c1117542-b9e0-4fc7-bf5b-10ace9261e50"
      },
      "outputs": [
        {
          "output_type": "stream",
          "name": "stdout",
          "text": [
            "QuantTitan - Aansh Chandrakant Dubey\n"
          ]
        }
      ],
      "source": [
        "print(\"QuantTitan - Aansh Chandrakant Dubey\")"
      ]
    },
    {
      "cell_type": "code",
      "source": [
        "print(\"B22AI058\")"
      ],
      "metadata": {
        "colab": {
          "base_uri": "https://localhost:8080/"
        },
        "id": "w9GtF_sdvXVf",
        "outputId": "408434f7-19d1-4926-c1ae-d239627c2efe"
      },
      "execution_count": 2,
      "outputs": [
        {
          "output_type": "stream",
          "name": "stdout",
          "text": [
            "B22AI058\n"
          ]
        }
      ]
    }
  ]
}