{
 "cells": [
  {
   "cell_type": "markdown",
   "id": "eca8a933-e89f-4001-b3d8-61656f1b54db",
   "metadata": {
    "jp-MarkdownHeadingCollapsed": true
   },
   "source": [
    "Juypter Notebook"
   ]
  },
  {
   "cell_type": "code",
   "execution_count": 2,
   "id": "c36da995-fd47-44f3-8a06-f2c80ca936b4",
   "metadata": {},
   "outputs": [
    {
     "name": "stdout",
     "output_type": "stream",
     "text": [
      "Shwet Kumar\n"
     ]
    }
   ],
   "source": [
    "print(\"Shwet Kumar\")"
   ]
  },
  {
   "cell_type": "code",
   "execution_count": 4,
   "id": "06d6d25b-6051-42f8-a1cb-aee4b86d0293",
   "metadata": {},
   "outputs": [
    {
     "name": "stdout",
     "output_type": "stream",
     "text": [
      "IIt2023142\n"
     ]
    }
   ],
   "source": [
    "print(\"IIt2023142\")"
   ]
  },
  {
   "cell_type": "code",
   "execution_count": null,
   "id": "415a1e59-a361-4ccc-8d69-cf47d50f9bfd",
   "metadata": {},
   "outputs": [],
   "source": []
  }
 ],
 "metadata": {
  "kernelspec": {
   "display_name": "Python [conda env:base] *",
   "language": "python",
   "name": "conda-base-py"
  },
  "language_info": {
   "codemirror_mode": {
    "name": "ipython",
    "version": 3
   },
   "file_extension": ".py",
   "mimetype": "text/x-python",
   "name": "python",
   "nbconvert_exporter": "python",
   "pygments_lexer": "ipython3",
   "version": "3.12.7"
  }
 },
 "nbformat": 4,
 "nbformat_minor": 5
}
