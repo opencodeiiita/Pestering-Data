{
  "nbformat": 4,
  "nbformat_minor": 0,
  "metadata": {
    "colab": {
      "provenance": []
    },
    "kernelspec": {
      "name": "python3",
      "display_name": "Python 3"
    },
    "language_info": {
      "name": "python"
    }
  },
  "cells": [
    {
      "cell_type": "markdown",
      "source": [
        "#jupyter notebook\n"
      ],
      "metadata": {
        "id": "1hcpFSvHZTNO"
      }
    },
    {
      "cell_type": "code",
      "source": [
        "print(\"Ashish\")"
      ],
      "metadata": {
        "colab": {
          "base_uri": "https://localhost:8080/"
        },
        "id": "j4LdfAKCYPIA",
        "outputId": "567b1c1d-899c-4d9d-b9f8-9b64146d237c"
      },
      "execution_count": 5,
      "outputs": [
        {
          "output_type": "stream",
          "name": "stdout",
          "text": [
            "Ashish\n"
          ]
        }
      ]
    },
    {
      "cell_type": "code",
      "source": [
        "print(\"IIT2023270\")"
      ],
      "metadata": {
        "colab": {
          "base_uri": "https://localhost:8080/"
        },
        "id": "fkF2wOZbYRuO",
        "outputId": "d1e06e71-819e-4a55-d086-d69938cf557c"
      },
      "execution_count": 6,
      "outputs": [
        {
          "output_type": "stream",
          "name": "stdout",
          "text": [
            "IIT2023270\n"
          ]
        }
      ]
    }
  ]
}