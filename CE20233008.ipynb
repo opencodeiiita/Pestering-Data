{
 "cells": [
  {
   "cell_type": "markdown",
   "id": "7bb4ade4-4b25-4394-a349-2830e1a3fcaa",
   "metadata": {},
   "source": [
    "# intro\n"
   ]
  },
  {
   "cell_type": "code",
   "execution_count": null,
   "id": "c7c80aca-3a55-433a-8058-1fccb55e039c",
   "metadata": {},
   "outputs": [],
   "source": [
    "print(\"Yasmin Sekh\")"
   ]
  },
  {
   "cell_type": "code",
   "execution_count": null,
   "id": "be3f36e1-304c-4a71-bb1f-8c77063c8f17",
   "metadata": {},
   "outputs": [],
   "source": [
    "print(\"not from iiita\")"
   ]
  }
 ],
 "metadata": {
  "kernelspec": {
   "display_name": "Python 3 (ipykernel)",
   "language": "python",
   "name": "python3"
  },
  "language_info": {
   "codemirror_mode": {
    "name": "ipython",
    "version": 3
   },
   "file_extension": ".py",
   "mimetype": "text/x-python",
   "name": "python",
   "nbconvert_exporter": "python",
   "pygments_lexer": "ipython3",
   "version": "3.12.3"
  }
 },
 "nbformat": 4,
 "nbformat_minor": 5
}
