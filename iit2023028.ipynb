{
 "cells": [
  {
   "cell_type": "markdown",
   "id": "663e16c7-98e1-46e4-9912-7de37d1ee959",
   "metadata": {},
   "source": [
    "Jupyter Notebook"
   ]
  },
  {
   "cell_type": "code",
   "execution_count": 3,
   "id": "980bc628-d04f-4951-9250-248a16b97009",
   "metadata": {},
   "outputs": [
    {
     "name": "stdout",
     "output_type": "stream",
     "text": [
      "NAME : ASHUTOSH KUMAR\n"
     ]
    }
   ],
   "source": [
    "print(\"NAME : ASHUTOSH KUMAR\") "
   ]
  },
  {
   "cell_type": "code",
   "execution_count": 4,
   "id": "c5fbe911-f777-4439-b95d-013ca8a2355e",
   "metadata": {},
   "outputs": [
    {
     "name": "stdout",
     "output_type": "stream",
     "text": [
      "Enrollment No. : IIT2023028\n"
     ]
    }
   ],
   "source": [
    "print(\"Enrollment No. : IIT2023028\")"
   ]
  },
  {
   "cell_type": "code",
   "execution_count": null,
   "id": "9d69e136-87ab-44b2-92bc-351bcb6baef2",
   "metadata": {},
   "outputs": [],
   "source": []
  }
 ],
 "metadata": {
  "kernelspec": {
   "display_name": "Python 3 (ipykernel)",
   "language": "python",
   "name": "python3"
  },
  "language_info": {
   "codemirror_mode": {
    "name": "ipython",
    "version": 3
   },
   "file_extension": ".py",
   "mimetype": "text/x-python",
   "name": "python",
   "nbconvert_exporter": "python",
   "pygments_lexer": "ipython3",
   "version": "3.12.6"
  }
 },
 "nbformat": 4,
 "nbformat_minor": 5
}
